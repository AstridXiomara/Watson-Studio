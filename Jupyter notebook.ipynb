{
    "cells": [
        {
            "cell_type": "markdown",
            "metadata": {},
            "source": "# Description\n\nThis Model contain the information of srveral reservoir simulations results\n"
        },
        {
            "cell_type": "code",
            "execution_count": 4,
            "metadata": {},
            "outputs": [
                {
                    "data": {
                        "text/html": "<div>\n<style scoped>\n    .dataframe tbody tr th:only-of-type {\n        vertical-align: middle;\n    }\n\n    .dataframe tbody tr th {\n        vertical-align: top;\n    }\n\n    .dataframe thead th {\n        text-align: right;\n    }\n</style>\n<table border=\"1\" class=\"dataframe\">\n  <thead>\n    <tr style=\"text-align: right;\">\n      <th></th>\n      <th>Unnamed: 0</th>\n      <th>1</th>\n      <th>2</th>\n      <th>3</th>\n      <th>4</th>\n      <th>5</th>\n      <th>6</th>\n      <th>7</th>\n      <th>8</th>\n      <th>9</th>\n      <th>...</th>\n      <th>391</th>\n      <th>392</th>\n      <th>393</th>\n      <th>394</th>\n      <th>395</th>\n      <th>396</th>\n      <th>397</th>\n      <th>398</th>\n      <th>399</th>\n      <th>400</th>\n    </tr>\n  </thead>\n  <tbody>\n    <tr>\n      <th>0</th>\n      <td>Pwf1</td>\n      <td>1445.0</td>\n      <td>1948.0</td>\n      <td>2846.0</td>\n      <td>2596.0</td>\n      <td>2888.0</td>\n      <td>1455.0</td>\n      <td>1622.0</td>\n      <td>1417.0</td>\n      <td>479.0</td>\n      <td>...</td>\n      <td>971.0</td>\n      <td>617.0</td>\n      <td>1457.0</td>\n      <td>522.0</td>\n      <td>1554.0</td>\n      <td>1557.0</td>\n      <td>835.0</td>\n      <td>724.0</td>\n      <td>675.0</td>\n      <td>1020.0</td>\n    </tr>\n    <tr>\n      <th>1</th>\n      <td>Pwf2</td>\n      <td>2567.0</td>\n      <td>1156.0</td>\n      <td>1195.0</td>\n      <td>2581.0</td>\n      <td>2519.0</td>\n      <td>983.0</td>\n      <td>1050.0</td>\n      <td>1436.0</td>\n      <td>1368.0</td>\n      <td>...</td>\n      <td>619.0</td>\n      <td>1390.0</td>\n      <td>1733.0</td>\n      <td>1330.0</td>\n      <td>602.0</td>\n      <td>726.0</td>\n      <td>920.0</td>\n      <td>592.0</td>\n      <td>726.0</td>\n      <td>615.0</td>\n    </tr>\n    <tr>\n      <th>2</th>\n      <td>Pwf3</td>\n      <td>2536.0</td>\n      <td>1330.0</td>\n      <td>1944.0</td>\n      <td>1995.0</td>\n      <td>2179.0</td>\n      <td>324.0</td>\n      <td>2003.0</td>\n      <td>806.0</td>\n      <td>627.0</td>\n      <td>...</td>\n      <td>928.0</td>\n      <td>535.0</td>\n      <td>1624.0</td>\n      <td>534.0</td>\n      <td>893.0</td>\n      <td>1071.0</td>\n      <td>966.0</td>\n      <td>1031.0</td>\n      <td>875.0</td>\n      <td>1359.0</td>\n    </tr>\n    <tr>\n      <th>3</th>\n      <td>Pwf4</td>\n      <td>2147.0</td>\n      <td>1412.0</td>\n      <td>2042.0</td>\n      <td>909.0</td>\n      <td>423.0</td>\n      <td>1068.0</td>\n      <td>2868.0</td>\n      <td>2785.0</td>\n      <td>300.0</td>\n      <td>...</td>\n      <td>1249.0</td>\n      <td>623.0</td>\n      <td>1444.0</td>\n      <td>511.0</td>\n      <td>528.0</td>\n      <td>1594.0</td>\n      <td>853.0</td>\n      <td>1296.0</td>\n      <td>668.0</td>\n      <td>1046.0</td>\n    </tr>\n    <tr>\n      <th>4</th>\n      <td>Pwf5</td>\n      <td>1853.0</td>\n      <td>370.0</td>\n      <td>888.0</td>\n      <td>1897.0</td>\n      <td>2985.0</td>\n      <td>1189.0</td>\n      <td>1548.0</td>\n      <td>1297.0</td>\n      <td>2988.0</td>\n      <td>...</td>\n      <td>502.0</td>\n      <td>755.0</td>\n      <td>785.0</td>\n      <td>1688.0</td>\n      <td>756.0</td>\n      <td>1275.0</td>\n      <td>946.0</td>\n      <td>1068.0</td>\n      <td>1576.0</td>\n      <td>737.0</td>\n    </tr>\n  </tbody>\n</table>\n<p>5 rows \u00d7 401 columns</p>\n</div>",
                        "text/plain": "  Unnamed: 0       1       2       3       4       5       6       7       8  \\\n0       Pwf1  1445.0  1948.0  2846.0  2596.0  2888.0  1455.0  1622.0  1417.0   \n1       Pwf2  2567.0  1156.0  1195.0  2581.0  2519.0   983.0  1050.0  1436.0   \n2       Pwf3  2536.0  1330.0  1944.0  1995.0  2179.0   324.0  2003.0   806.0   \n3       Pwf4  2147.0  1412.0  2042.0   909.0   423.0  1068.0  2868.0  2785.0   \n4       Pwf5  1853.0   370.0   888.0  1897.0  2985.0  1189.0  1548.0  1297.0   \n\n        9  ...     391     392     393     394     395     396    397     398  \\\n0   479.0  ...   971.0   617.0  1457.0   522.0  1554.0  1557.0  835.0   724.0   \n1  1368.0  ...   619.0  1390.0  1733.0  1330.0   602.0   726.0  920.0   592.0   \n2   627.0  ...   928.0   535.0  1624.0   534.0   893.0  1071.0  966.0  1031.0   \n3   300.0  ...  1249.0   623.0  1444.0   511.0   528.0  1594.0  853.0  1296.0   \n4  2988.0  ...   502.0   755.0   785.0  1688.0   756.0  1275.0  946.0  1068.0   \n\n      399     400  \n0   675.0  1020.0  \n1   726.0   615.0  \n2   875.0  1359.0  \n3   668.0  1046.0  \n4  1576.0   737.0  \n\n[5 rows x 401 columns]"
                    },
                    "execution_count": 4,
                    "metadata": {},
                    "output_type": "execute_result"
                }
            ],
            "source": "# The code was removed by Watson Studio for sharing."
        },
        {
            "cell_type": "code",
            "execution_count": null,
            "metadata": {},
            "outputs": [],
            "source": ""
        },
        {
            "cell_type": "code",
            "execution_count": null,
            "metadata": {},
            "outputs": [],
            "source": ""
        }
    ],
    "metadata": {
        "kernelspec": {
            "display_name": "Python 3.9",
            "language": "python",
            "name": "python3"
        },
        "language_info": {
            "codemirror_mode": {
                "name": "ipython",
                "version": 3
            },
            "file_extension": ".py",
            "mimetype": "text/x-python",
            "name": "python",
            "nbconvert_exporter": "python",
            "pygments_lexer": "ipython3",
            "version": "3.9.7"
        }
    },
    "nbformat": 4,
    "nbformat_minor": 1
}